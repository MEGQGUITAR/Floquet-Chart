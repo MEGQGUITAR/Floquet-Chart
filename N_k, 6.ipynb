{
 "cells": [
  {
   "cell_type": "code",
   "execution_count": null,
   "id": "89d442c7",
   "metadata": {},
   "outputs": [
    {
     "data": {
      "text/plain": [
       "<Figure size 1000x600 with 0 Axes>"
      ]
     },
     "execution_count": 1,
     "metadata": {},
     "output_type": "execute_result"
    },
    {
     "data": {
      "text/plain": [
       "<Figure size 1000x600 with 0 Axes>"
      ]
     },
     "metadata": {},
     "output_type": "display_data"
    }
   ],
   "source": [
    "import numpy as np\n",
    "from scipy.integrate import solve_ivp\n",
    "import matplotlib.pyplot as plt\n",
    "import scienceplots\n",
    "plt.style.use('science')"
   ]
  },
  {
   "cell_type": "markdown",
   "id": "0bd30b4e",
   "metadata": {},
   "source": [
    "CALCULO DEL FIN DE LA INFLACION CON T-MODEL"
   ]
  },
  {
   "cell_type": "code",
   "execution_count": null,
   "id": "0e1f340b",
   "metadata": {},
   "outputs": [],
   "source": [
    "#Constants\n",
    "lambdam=1\n",
    "Mp=1\n",
    "#Potenial\n",
    "def V(phi):\n",
    "    return lambdam * Mp**4 * (np.sqrt(6) * np.tanh(phi / (np.sqrt(6) * Mp)))**6\n",
    "\n",
    "def DV(phi):\n",
    "    return 6 * lambdam * Mp**3 * (np.sqrt(6) * np.tanh(phi / (np.sqrt(6) * Mp)))**5 *(1-np.tanh(phi / (np.sqrt(6) * Mp))**2)\n",
    "\n",
    "def D2V(phi):\n",
    "    u = phi / (np.sqrt(6) * Mp)\n",
    "    tanh_u = np.tanh(u)\n",
    "    term1 = 5 * (tanh_u**4)\n",
    "    term2 = 7 * (tanh_u**6)\n",
    "\n",
    "    return 216* lambdam * Mp**2 *(1-tanh_u**2)* (term1 - term2)\n",
    "#Background equation\n",
    "def system(t,y):\n",
    "    phi,pi=y\n",
    "    dphi_dt=pi\n",
    "    dpi_dt=-3*np.sqrt((((pi**2)/2 +V(phi))/(3*Mp**2)))*pi-DV(phi)\n",
    "    return [dphi_dt,dpi_dt]"
   ]
  },
  {
   "cell_type": "code",
   "execution_count": null,
   "id": "061aedbd",
   "metadata": {},
   "outputs": [
    {
     "name": "stdout",
     "output_type": "stream",
     "text": [
      "--- Primera Intersección ---\n",
      "Tiempo de intersección (t): 2.416661\n",
      "Valor de phi_sol en la intersección: 1.982993\n",
      "Valor de pi_sol en la intersección: -4.408441\n",
      "Verificación: pi_sol**2 = 19.434354\n",
      "Verificación: V(phi_sol) = 19.424492\n"
     ]
    },
    {
     "data": {
      "image/png": "[encoded data removed]",
      "text/plain": [
       "<Figure size 1000x600 with 1 Axes>"
      ]
     },
     "metadata": {},
     "output_type": "display_data"
    }
   ],
   "source": [
    "phi_0=6\n",
    "pi_0=0\n",
    "y_0=[phi_0,pi_0]\n",
    "t_span=(0,100)\n",
    "t_eval=np.linspace(t_span[0],t_span[1],10000)\n",
    "#Background Solution\n",
    "sol=solve_ivp(system,t_span, y0=y_0, t_eval=t_eval)\n",
    "t=sol.t\n",
    "phi_sol=sol.y[0]\n",
    "pi_sol=sol.y[1]\n",
    "# End of the inflation\n",
    "difference = pi_sol**2 - V(phi_sol)\n",
    "zero_crossings_indices = np.where(np.diff(np.sign(difference)))[0]\n",
    "if len(zero_crossings_indices) > 0:\n",
    "    idx = zero_crossings_indices[0]\n",
    "    t1, t2 = t[idx], t[idx+1]\n",
    "    diff1, diff2 = difference[idx], difference[idx+1]\n",
    "    t_interseccion = t1 - diff1 * (t2 - t1) / (diff2 - diff1)\n",
    "    phi1, phi2 = phi_sol[idx], phi_sol[idx+1]\n",
    "    pi1, pi2 = pi_sol[idx], pi_sol[idx+1]\n",
    "    phi_at_interseccion = phi1 + (phi2 - phi1) * (t_interseccion - t1) / (t2 - t1)\n",
    "    pi_at_interseccion = pi1 + (pi2 - pi1) * (t_interseccion - t1) / (t2 - t1)\n",
    "    print(f\"--- Primera Intersección ---\")\n",
    "    print(f\"Tiempo de intersección (t): {t_interseccion:.6f}\")\n",
    "    print(f\"Valor de phi_sol en la intersección: {phi_at_interseccion:.6f}\")\n",
    "    print(f\"Valor de pi_sol en la intersección: {pi_at_interseccion:.6f}\")\n",
    "    print(f\"Verificación: pi_sol**2 = {pi_at_interseccion**2:.6f}\")\n",
    "    print(f\"Verificación: V(phi_sol) = {V(phi_at_interseccion):.6f}\")\n",
    "\n",
    "    # Gráfica con el punto de la primera intersección resaltado\n",
    "    plt.figure(figsize=(10, 6))\n",
    "    plt.plot(t, pi_sol**2, 'b-', label=r'$\\dot{\\phi}^2$')\n",
    "    plt.plot(t, V(phi_sol), 'r-', label=r'$V(\\phi)$')\n",
    "    plt.axvline(x=t_interseccion, color='g', linestyle='--', label=f'1ra Intersección en t={t_interseccion:.4f}')\n",
    "    plt.plot(t_interseccion, pi_at_interseccion**2, 'go', markersize=8, label='Punto de 1ra Intersección')\n",
    "    plt.xlabel(r\"t\")\n",
    "    plt.title(r\"Gráfica con el punto de la primera intersección\")\n",
    "    plt.legend()\n",
    "    plt.show()\n",
    "\n",
    "else:\n",
    "    print(\"No se encontraron intersecciones en el rango de t especificado.\")"
   ]
  },
  {
   "cell_type": "markdown",
   "id": "0dcaff71",
   "metadata": {},
   "source": [
    "# Floquet chart for $V=\\lambda M_p^4\\left[\\sqrt{6}\\tanh\\left(\\frac{\\phi}{\\sqrt{6}M_p}\\right)\\right]^6$"
   ]
  },
  {
   "cell_type": "code",
   "execution_count": null,
   "id": "7dddaea7",
   "metadata": {},
   "outputs": [
    {
     "name": "stdout",
     "output_type": "stream",
     "text": [
      "Resolviendo para el fondo\n",
      "Solución del fondo obtenida\n",
      "Approximate period of background solution (T_approx): 12.879885\n",
      "Calculando exponentes de Floquet\n"
     ]
    },
    {
     "name": "stderr",
     "output_type": "stream",
     "text": [
      "C:\\Users\\MEGQ_\\AppData\\Local\\Temp\\ipykernel_9808\\3249667520.py:106: RuntimeWarning: invalid value encountered in log\n",
      "  nu = (1/T_approx) * np.log(multiplier)\n"
     ]
    },
    {
     "name": "stdout",
     "output_type": "stream",
     "text": [
      "Finalizado\n"
     ]
    }
   ],
   "source": [
    "from scipy.interpolate import interp1d\n",
    "lambdam = 1\n",
    "Mp = 1\n",
    "def V(phi):\n",
    "    return lambdam * Mp**4 * (np.sqrt(6) * np.tanh(phi / (np.sqrt(6) * Mp)))**6\n",
    "def DV(phi):\n",
    "    return 6 * lambdam * Mp**3 * (np.sqrt(6) * np.tanh(phi / (np.sqrt(6) * Mp)))**5 *(1-np.tanh(phi / (np.sqrt(6) * Mp))**2)\n",
    "def D2V(phi):\n",
    "    u = phi / (np.sqrt(6) * Mp)\n",
    "    tanh_u = np.tanh(u)\n",
    "    term1 = 5 * (tanh_u**4)\n",
    "    term2 = 7 * (tanh_u**6)\n",
    "    return 216* lambdam * Mp**2 *(1-tanh_u**2)* (term1 - term2)\n",
    "def system_background(t, y):\n",
    "    phi, pi = y\n",
    "    dphi_dt = pi\n",
    "    H_arg = ((pi**2) / 2 + V(phi)) / (3 * Mp**2)\n",
    "    H = np.sqrt(max(0, H_arg))\n",
    "    dpi_dt = -3 * H * pi - DV(phi)\n",
    "    return [dphi_dt, dpi_dt]\n",
    "phi_0 = phi_at_interseccion\n",
    "pi_0 = pi_at_interseccion\n",
    "y_0 = [phi_0, pi_0]\n",
    "t_span = (0, 100)\n",
    "t_eval = np.linspace(t_span[0], t_span[1], 10000)\n",
    "print(\"Resolviendo para el fondo\")\n",
    "sol_background = solve_ivp(system_background, t_span, y0=y_0, t_eval=t_eval, rtol=1e-6, atol=1e-8)\n",
    "t_background = sol_background.t\n",
    "phi_bar_sol = sol_background.y[0]\n",
    "pi_bar_sol = sol_background.y[1]\n",
    "print(\"Solución del fondo obtenida\")\n",
    "zero_crossings_pi = np.where(np.diff(np.sign(pi_bar_sol)))[0]\n",
    "if len(zero_crossings_pi) < 2:\n",
    "    raise ValueError(\"Not enough turning points found to determine a period. Extend t_span or adjust initial conditions.\")\n",
    "t_turning_points = []\n",
    "for idx in zero_crossings_pi:\n",
    "    if pi_bar_sol[idx+1] - pi_bar_sol[idx] == 0:\n",
    "        t_interp = t_background[idx]\n",
    "    else:\n",
    "        t_interp = t_background[idx] - pi_bar_sol[idx] * (t_background[idx+1] - t_background[idx]) / (pi_bar_sol[idx+1] - pi_bar_sol[idx])\n",
    "    t_turning_points.append(t_interp)\n",
    "\n",
    "if len(t_turning_points) < 2:\n",
    "    raise ValueError(\"Could not find enough turning points to define a period. Consider extending t_span.\")\n",
    "\n",
    "T_approx = 2 * (t_turning_points[1] - t_turning_points[0])\n",
    "print(f\"Approximate period of background solution (T_approx): {T_approx:.6f}\")\n",
    "phi_bar_interp = interp1d(t_background, phi_bar_sol, kind='cubic', fill_value=\"extrapolate\")\n",
    "def floquet_system(t, y, k_squared_over_a_squared, phi_bar_interp_func):\n",
    "    chi, chi_dot = y\n",
    "    phi_bar_at_t = phi_bar_interp_func(t)    \n",
    "    coefficient = k_squared_over_a_squared + D2V(phi_bar_at_t)   \n",
    "    dchi_dt = chi_dot\n",
    "    dchi_dot_dt = -coefficient * chi\n",
    "    return [dchi_dt, dchi_dot_dt]\n",
    "\n",
    "k_values = np.logspace(-2, 1, 500)\n",
    "real_floquet_exponents = []\n",
    "print(\"Calculando exponentes de Floquet\")\n",
    "for k_val in k_values:\n",
    "    k_squared_over_a_squared = k_val**2\n",
    "    t0_floquet = t_background[0]\n",
    "    t_span_floquet = (t0_floquet, t0_floquet + T_approx)\n",
    "    y0_1 = [1.0, 0.0]\n",
    "    sol_floquet_1 = solve_ivp(floquet_system, t_span_floquet, y0=y0_1, args=(k_squared_over_a_squared, phi_bar_interp), rtol=1e-8, atol=1e-10)\n",
    "    final_state_1 = sol_floquet_1.y[:, -1]\n",
    "    y0_2 = [0.0, 1.0]\n",
    "    sol_floquet_2 = solve_ivp(floquet_system, t_span_floquet, y0=y0_2, args=(k_squared_over_a_squared, phi_bar_interp), rtol=1e-8, atol=1e-10)\n",
    "    final_state_2 = sol_floquet_2.y[:, -1]\n",
    "    Monodromy_Matrix = np.array([\n",
    "        [final_state_1[0], final_state_2[0]],\n",
    "        [final_state_1[1], final_state_2[1]]\n",
    "    ])\n",
    "\n",
    "    floquet_multipliers = np.linalg.eigvals(Monodromy_Matrix)\n",
    "    max_real_exponent = -np.inf\n",
    "    for multiplier in floquet_multipliers:\n",
    "        if np.abs(multiplier) < 1e-12: \n",
    "            nu = complex(-np.inf, 0) \n",
    "        else:\n",
    "            nu = (1/T_approx) * np.log(multiplier)\n",
    "        \n",
    "        if np.real(nu) > max_real_exponent:\n",
    "            max_real_exponent = np.real(nu)\n",
    "            \n",
    "    real_floquet_exponents.append(max_real_exponent)\n",
    "\n",
    "print(\"Finalizado\")"
   ]
  },
  {
   "cell_type": "code",
   "execution_count": 28,
   "id": "ff36b70c",
   "metadata": {},
   "outputs": [
    {
     "data": {
      "image/png": "[encoded data removed]",
      "text/plain": [
       "<Figure size 1000x600 with 1 Axes>"
      ]
     },
     "metadata": {},
     "output_type": "display_data"
    }
   ],
   "source": [
    "plt.figure(figsize=(10, 6))\n",
    "plt.loglog(k_values, real_floquet_exponents, 'k-')\n",
    "plt.fill_between(k_values, real_floquet_exponents, color='gray', alpha=0.3)\n",
    "plt.xlabel(r'$k$ (Wavenumber)')\n",
    "plt.xlim(0.01,10)\n",
    "plt.ylabel(r'$\\text{Re}(\\mu_k)$')\n",
    "plt.show()"
   ]
  },
  {
   "cell_type": "markdown",
   "id": "5167781c",
   "metadata": {},
   "source": [
    "# Floquet chart for $V=\\lambda\\phi^6$\n"
   ]
  },
  {
   "cell_type": "markdown",
   "id": "c215dc4b",
   "metadata": {},
   "source": [
    "The background solution is $\\bar{\\phi}\\propto\\text{cn}(\\omega t,k)$"
   ]
  },
  {
   "cell_type": "code",
   "execution_count": null,
   "id": "0e673fd1",
   "metadata": {},
   "outputs": [
    {
     "name": "stdout",
     "output_type": "stream",
     "text": [
      "Resolviendo para el fondo\n",
      "Solución del fondo obtenida\n",
      "Approximate period of background solution (T_approx): 10.548043\n",
      "Calculando exponentes de Floquet\n"
     ]
    },
    {
     "name": "stderr",
     "output_type": "stream",
     "text": [
      "C:\\Users\\MEGQ_\\AppData\\Local\\Temp\\ipykernel_9808\\1201462816.py:103: RuntimeWarning: invalid value encountered in log\n",
      "  nu = (1/T_approx) * np.log(multiplier)\n"
     ]
    },
    {
     "name": "stdout",
     "output_type": "stream",
     "text": [
      "Finalizado\n"
     ]
    }
   ],
   "source": [
    "from scipy.interpolate import interp1d\n",
    "\n",
    "lambdam = 1\n",
    "Mp = 1\n",
    "\n",
    "def V(phi):\n",
    "    return lambdam * phi**6\n",
    "\n",
    "def DV(phi):\n",
    "    return 6 * lambdam * phi**5\n",
    "\n",
    "def D2V(phi):\n",
    "\n",
    "    return 30 * lambdam * phi**4\n",
    "\n",
    "def system_background(t, y):\n",
    "    phi, pi = y\n",
    "    dphi_dt = pi\n",
    "    H_arg = ((pi**2) / 2 + V(phi)) / (3 * Mp**2)\n",
    "    H = np.sqrt(max(0, H_arg))\n",
    "    dpi_dt = -3 * H * pi - DV(phi)\n",
    "    return [dphi_dt, dpi_dt]\n",
    "\n",
    "phi_0 = phi_at_interseccion\n",
    "pi_0 = pi_at_interseccion\n",
    "y_0 = [phi_0, pi_0]\n",
    "t_span = (0, 100)\n",
    "t_eval = np.linspace(t_span[0], t_span[1], 10000)\n",
    "\n",
    "print(\"Resolviendo para el fondo\")\n",
    "sol_background = solve_ivp(system_background, t_span, y0=y_0, t_eval=t_eval, rtol=1e-6, atol=1e-8)\n",
    "t_background = sol_background.t\n",
    "phi_bar_sol = sol_background.y[0]\n",
    "pi_bar_sol = sol_background.y[1]\n",
    "print(\"Solución del fondo obtenida\")\n",
    "\n",
    "zero_crossings_pi = np.where(np.diff(np.sign(pi_bar_sol)))[0]\n",
    "\n",
    "if len(zero_crossings_pi) < 2:\n",
    "    raise ValueError(\"Not enough turning points found to determine a period. Extend t_span or adjust initial conditions.\")\n",
    "\n",
    "t_turning_points = []\n",
    "for idx in zero_crossings_pi:\n",
    "    if pi_bar_sol[idx+1] - pi_bar_sol[idx] == 0:\n",
    "        t_interp = t_background[idx]\n",
    "    else:\n",
    "        t_interp = t_background[idx] - pi_bar_sol[idx] * (t_background[idx+1] - t_background[idx]) / (pi_bar_sol[idx+1] - pi_bar_sol[idx])\n",
    "    t_turning_points.append(t_interp)\n",
    "\n",
    "if len(t_turning_points) < 2:\n",
    "    raise ValueError(\"Could not find enough turning points to define a period. Consider extending t_span.\")\n",
    "\n",
    "T_approx = 2 * (t_turning_points[1] - t_turning_points[0])\n",
    "print(f\"Approximate period of background solution (T_approx): {T_approx:.6f}\")\n",
    "\n",
    "phi_bar_interp = interp1d(t_background, phi_bar_sol, kind='cubic', fill_value=\"extrapolate\")\n",
    "\n",
    "def floquet_system(t, y, k_squared_over_a_squared, phi_bar_interp_func):\n",
    "    chi, chi_dot = y\n",
    "    phi_bar_at_t = phi_bar_interp_func(t)    \n",
    "    coefficient = k_squared_over_a_squared + D2V(phi_bar_at_t) #Termino de w^2    \n",
    "    dchi_dt = chi_dot\n",
    "    dchi_dot_dt = -coefficient * chi\n",
    "    return [dchi_dt, dchi_dot_dt]\n",
    "\n",
    "k_values = np.logspace(-2, 1, 500)\n",
    "real_floquet_exponents = []\n",
    "\n",
    "print(\"Calculando exponentes de Floquet\")\n",
    "for k_val in k_values:\n",
    "    k_squared_over_a_squared = k_val**2\n",
    "    \n",
    "    t0_floquet = t_background[0]\n",
    "    t_span_floquet = (t0_floquet, t0_floquet + T_approx)\n",
    "    y0_1 = [1.0, 0.0]\n",
    "    sol_floquet_1 = solve_ivp(floquet_system, t_span_floquet, y0=y0_1, args=(k_squared_over_a_squared, phi_bar_interp), rtol=1e-8, atol=1e-10)\n",
    "    final_state_1 = sol_floquet_1.y[:, -1]\n",
    "    y0_2 = [0.0, 1.0]\n",
    "    sol_floquet_2 = solve_ivp(floquet_system, t_span_floquet, y0=y0_2, args=(k_squared_over_a_squared, phi_bar_interp), rtol=1e-8, atol=1e-10)\n",
    "    final_state_2 = sol_floquet_2.y[:, -1]\n",
    "    Monodromy_Matrix = np.array([\n",
    "        [final_state_1[0], final_state_2[0]],\n",
    "        [final_state_1[1], final_state_2[1]]\n",
    "    ])\n",
    "\n",
    "    floquet_multipliers = np.linalg.eigvals(Monodromy_Matrix)\n",
    "\n",
    "    #Tomar valores reales\n",
    "    max_real_exponent = -np.inf\n",
    "    for multiplier in floquet_multipliers:\n",
    "        if np.abs(multiplier) < 1e-12: \n",
    "            nu = complex(-np.inf, 0) \n",
    "        else:\n",
    "            nu = (1/T_approx) * np.log(multiplier)\n",
    "        \n",
    "        if np.real(nu) > max_real_exponent:\n",
    "            max_real_exponent = np.real(nu)\n",
    "            \n",
    "    real_floquet_exponents.append(max_real_exponent)\n",
    "\n",
    "print(\"Finalizado\")"
   ]
  },
  {
   "cell_type": "code",
   "execution_count": 16,
   "id": "22d2f9a8",
   "metadata": {},
   "outputs": [
    {
     "data": {
      "image/png": "[encoded data removed]",
      "text/plain": [
       "<Figure size 1000x600 with 1 Axes>"
      ]
     },
     "metadata": {},
     "output_type": "display_data"
    }
   ],
   "source": [
    "plt.figure(figsize=(10, 6))\n",
    "plt.loglog(k_values, real_floquet_exponents, 'k-')\n",
    "plt.fill_between(k_values, real_floquet_exponents, color='gray', alpha=0.3)\n",
    "plt.xlabel(r'$k$ (Wavenumber)')\n",
    "plt.xlim(0.01,10)\n",
    "plt.ylabel(r'$\\text{Re}(\\mu_k)$')\n",
    "plt.show()"
   ]
  }
 ],
 "metadata": {
  "kernelspec": {
   "display_name": "Python 3",
   "language": "python",
   "name": "python3"
  },
  "language_info": {
   "codemirror_mode": {
    "name": "ipython",
    "version": 3
   },
   "file_extension": ".py",
   "mimetype": "text/x-python",
   "name": "python",
   "nbconvert_exporter": "python",
   "pygments_lexer": "ipython3",
   "version": "3.13.5"
  }
 },
 "nbformat": 4,
 "nbformat_minor": 5
}
